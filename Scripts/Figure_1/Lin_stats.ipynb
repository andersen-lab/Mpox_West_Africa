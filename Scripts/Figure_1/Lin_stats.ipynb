{
 "cells": [
  {
   "cell_type": "code",
   "execution_count": 4,
   "id": "8cb90c51-486b-45b5-a932-d3491c217321",
   "metadata": {},
   "outputs": [],
   "source": [
    "import baltic as bt\n",
    "import requests\n",
    "from io import StringIO as sio\n",
    "import matplotlib.pyplot as plt\n",
    "import matplotlib.colors as mcolors\n",
    "from matplotlib.patches import Polygon, PathPatch\n",
    "from matplotlib.path import Path\n",
    "from matplotlib.collections import LineCollection\n",
    "from matplotlib import cm\n",
    "import matplotlib.patheffects as path_effects\n",
    "from IPython.display import HTML\n",
    "import numpy as np\n",
    "import matplotlib.dates as mdates\n",
    "from datetime import datetime as dt\n",
    "import os\n",
    "import PyAstronomy\n",
    "from PyAstronomy import pyasl\n",
    "import datetime\n",
    "import re\n",
    "import matplotlib.pyplot as plt\n",
    "import matplotlib.patheffects as path_effects\n",
    "from matplotlib.gridspec import GridSpec\n",
    "from matplotlib.patches import Polygon\n",
    "import pandas as pd\n",
    "\n",
    "mpl.rcParams['font.family'] = 'sans-serif'\n",
    "import pandas as pd\n",
    "\n",
    "df=pd.read_csv(\"nextclade.csv\", sep=\",\")\n",
    "\n",
    "ldf=df[((df[\"seqName\"].str.contains(\"VSP\")) | (df[\"seqName\"].str.contains(\"TRM\"))) & (~df[\"seqName\"].str.contains(\"Camer\"))]\n",
    "ldf=pd.DataFrame(ldf[\"lineage\"].value_counts().reset_index()).sort_values(\"lineage\") \n",
    "\n",
    "\n",
    "\n",
    "mpl.rcParams['font.family'] = 'sans-serif'\n",
    "plt.bar(ldf[\"lineage\"], ldf[\"count\"], color='#4997D0', edgecolor=\"black\")\n",
    "plt.ylabel('Count', size=30)\n",
    "plt.xticks(fontsize=20)\n",
    "plt.yticks(fontsize=20)\n",
    "[plt.gca().spines[loc].set_visible(False) for loc in ['top','right']]\n",
    "\n",
    "\n",
    "#plt.show()\n",
    "\n",
    "plt.savefig(\"Lin_counts.png\",bbox_inches='tight', dpi=1000)\n",
    "\n"
   ]
  }
 ],
 "metadata": {
  "kernelspec": {
   "display_name": "Python 3 (ipykernel)",
   "language": "python",
   "name": "python3"
  },
  "language_info": {
   "codemirror_mode": {
    "name": "ipython",
    "version": 3
   },
   "file_extension": ".py",
   "mimetype": "text/x-python",
   "name": "python",
   "nbconvert_exporter": "python",
   "pygments_lexer": "ipython3",
   "version": "3.11.5"
  }
 },
 "nbformat": 4,
 "nbformat_minor": 5
}
